{
 "cells": [
  {
   "cell_type": "code",
   "execution_count": 10,
   "metadata": {},
   "outputs": [],
   "source": [
    "import pandas as pd\n",
    "import numpy as np\n",
    "import pycountry\n",
    "import countrydict\n",
    "import province_to_regions"
   ]
  },
  {
   "cell_type": "code",
   "execution_count": 11,
   "metadata": {},
   "outputs": [],
   "source": [
    "df = pd.read_excel(\"emdat_public_2023_02_14_query_uid-AJtVn9.xlsx\",skiprows = 6)\n",
    "df = df[df['Insured Damages (\\'000 US$)'].isna() == False]\n"
   ]
  },
  {
   "cell_type": "code",
   "execution_count": 12,
   "metadata": {},
   "outputs": [],
   "source": [
    "#A semi-automated way to cluster some rows when the country spans multiple regions\n",
    "def get_region(iso,location):\n",
    "    #If the country only spans one region, we can get it directly, otherwise we need to look at the provinces/states\n",
    "    regions = countrydict.countries_to_regions[iso]\n",
    "    if(isinstance(regions,str)):\n",
    "        return regions\n",
    "    else:\n",
    "        dict = province_to_regions.provinces_to_region[iso]\n",
    "        for province,region in dict.items():\n",
    "            if(location.find(province) != -1):\n",
    "                return region\n",
    "            #The china dictionary is structured differently since the majority of provinces are in the EAS region. We only need to consider tibet and xinjiang seperately\n",
    "            if(iso == \"CHN\"):\n",
    "                return \"EAS\"\n",
    "        return \"None\"\n",
    "    \n",
    "df['Location'].fillna(\"\",inplace=True)\n",
    "df['Region'] = df.apply(lambda row: get_region(row.ISO,row.Location),axis = 1)"
   ]
  },
  {
   "cell_type": "code",
   "execution_count": 13,
   "metadata": {},
   "outputs": [],
   "source": [
    "#Cluster 0 corresponds to losses that need to be considered or manually\n",
    "df['Cluster'] = df['Region'].map(lambda x: countrydict.regions_to_cluster[x] if (isinstance(x,str)) else 0)"
   ]
  },
  {
   "cell_type": "code",
   "execution_count": 14,
   "metadata": {},
   "outputs": [],
   "source": [
    "df[df.Cluster == 0].to_excel(\"manual_clusters.xlsx\")\n",
    "#About 50 events need to be considered manually now"
   ]
  }
 ],
 "metadata": {
  "kernelspec": {
   "display_name": "Python 3",
   "language": "python",
   "name": "python3"
  },
  "language_info": {
   "codemirror_mode": {
    "name": "ipython",
    "version": 3
   },
   "file_extension": ".py",
   "mimetype": "text/x-python",
   "name": "python",
   "nbconvert_exporter": "python",
   "pygments_lexer": "ipython3",
   "version": "3.10.7"
  },
  "orig_nbformat": 4,
  "vscode": {
   "interpreter": {
    "hash": "2efb4d4b7120e2985f960e59988f20bd9c8de9b4bd6d032488b38d1e98547ddb"
   }
  }
 },
 "nbformat": 4,
 "nbformat_minor": 2
}
