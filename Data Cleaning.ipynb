{
 "cells": [
  {
   "cell_type": "code",
   "execution_count": 1,
   "metadata": {},
   "outputs": [],
   "source": [
    "import pandas as pd\n",
    "import numpy as np\n",
    "import pycountry\n",
    "import countrydict"
   ]
  },
  {
   "cell_type": "code",
   "execution_count": 2,
   "metadata": {},
   "outputs": [],
   "source": [
    "df = pd.read_excel(\"emdat_public_2023_02_14_query_uid-AJtVn9.xlsx\",skiprows = 6)"
   ]
  },
  {
   "cell_type": "code",
   "execution_count": 3,
   "metadata": {},
   "outputs": [],
   "source": [
    "df = df.join(pd.DataFrame(np.zeros(len(df))))\n",
    "df = df.rename(columns = {'0':'Region'})"
   ]
  },
  {
   "cell_type": "code",
   "execution_count": 4,
   "metadata": {},
   "outputs": [
    {
     "name": "stderr",
     "output_type": "stream",
     "text": [
      "C:\\Users\\noahd\\AppData\\Local\\Temp\\ipykernel_11144\\2990388048.py:2: SettingWithCopyWarning: \n",
      "A value is trying to be set on a copy of a slice from a DataFrame\n",
      "\n",
      "See the caveats in the documentation: https://pandas.pydata.org/pandas-docs/stable/user_guide/indexing.html#returning-a-view-versus-a-copy\n",
      "  df['Region'][i] = countrydict.countries_to_regions[df['ISO'][i]]\n"
     ]
    }
   ],
   "source": [
    "for i in range(len(df)):\n",
    "    df['Region'][i] = countrydict.countries_to_regions[df['ISO'][i]]"
   ]
  },
  {
   "cell_type": "code",
   "execution_count": 5,
   "metadata": {},
   "outputs": [
    {
     "data": {
      "text/plain": [
       "0                    WAF\n",
       "1                    SAS\n",
       "2                    SCA\n",
       "3                    SCA\n",
       "4                    SCA\n",
       "              ...       \n",
       "16540                SEA\n",
       "16541               ESAF\n",
       "16542                 NZ\n",
       "16543    {ENA, CNA, WNA}\n",
       "16544                WCE\n",
       "Name: Region, Length: 16545, dtype: object"
      ]
     },
     "execution_count": 5,
     "metadata": {},
     "output_type": "execute_result"
    }
   ],
   "source": [
    "df['Region']"
   ]
  }
 ],
 "metadata": {
  "kernelspec": {
   "display_name": "Python 3",
   "language": "python",
   "name": "python3"
  },
  "language_info": {
   "codemirror_mode": {
    "name": "ipython",
    "version": 3
   },
   "file_extension": ".py",
   "mimetype": "text/x-python",
   "name": "python",
   "nbconvert_exporter": "python",
   "pygments_lexer": "ipython3",
   "version": "3.10.7"
  },
  "orig_nbformat": 4,
  "vscode": {
   "interpreter": {
    "hash": "2efb4d4b7120e2985f960e59988f20bd9c8de9b4bd6d032488b38d1e98547ddb"
   }
  }
 },
 "nbformat": 4,
 "nbformat_minor": 2
}
