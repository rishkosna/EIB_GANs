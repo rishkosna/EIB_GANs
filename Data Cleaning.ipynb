{
 "cells": [
  {
   "cell_type": "code",
   "execution_count": 250,
   "metadata": {},
   "outputs": [],
   "source": [
    "import pandas as pd\n",
    "import numpy as np\n",
    "import pycountry\n",
    "import countrydict\n",
    "import province_to_regions\n",
    "import re\n",
    "from collections import defaultdict"
   ]
  },
  {
   "cell_type": "code",
   "execution_count": 251,
   "metadata": {},
   "outputs": [],
   "source": [
    "df = pd.read_excel(\"emdat_public_2023_02_14_query_uid-AJtVn9.xlsx\",skiprows = 6)\n",
    "df = df[df['Insured Damages (\\'000 US$)'].isna() == False]\n"
   ]
  },
  {
   "cell_type": "code",
   "execution_count": 252,
   "metadata": {},
   "outputs": [],
   "source": [
    "#A semi-automated way to cluster some rows when the country spans multiple regions\n",
    "def get_region(iso,location):\n",
    "    #If the country only spans one region, we can get it directly, otherwise we need to look at the provinces/states\n",
    "    regions = countrydict.countries_to_regions[iso]\n",
    "    if(isinstance(regions,str)):\n",
    "        return regions\n",
    "    else:\n",
    "        dict = province_to_regions.provinces_to_region[iso]\n",
    "        for province,region in dict.items():\n",
    "            if(location.find(province) != -1):\n",
    "                return region\n",
    "            #The china dictionary is structured differently since the majority of provinces are in the EAS region. We only need to consider tibet and xinjiang seperately\n",
    "            if(iso == \"CHN\"):\n",
    "                return \"EAS\"\n",
    "        return \"None\"\n",
    "    \n",
    "df['Location'].fillna(\"\",inplace=True)\n",
    "df['Region'] = df.apply(lambda row: get_region(row.ISO,row.Location),axis = 1)"
   ]
  },
  {
   "cell_type": "code",
   "execution_count": 253,
   "metadata": {},
   "outputs": [],
   "source": [
    "#Cluster 0 corresponds to losses that need to be considered or manually\n",
    "df['Cluster'] = df['Region'].map(lambda x: countrydict.regions_to_cluster[x] if (isinstance(x,str)) else 0)"
   ]
  },
  {
   "cell_type": "code",
   "execution_count": 254,
   "metadata": {},
   "outputs": [],
   "source": [
    "#df[df.Cluster == 0].to_excel(\"manual_clusters.xlsx\")\n",
    "#About 50 events need to be considered manually now"
   ]
  },
  {
   "cell_type": "code",
   "execution_count": 255,
   "metadata": {},
   "outputs": [],
   "source": [
    "manual_clusters = pd.read_excel(\"manual_clusters.xlsx\")"
   ]
  },
  {
   "cell_type": "code",
   "execution_count": 256,
   "metadata": {},
   "outputs": [],
   "source": [
    "manual_clusters = manual_clusters.set_index(manual_clusters['Unnamed: 0'])\n",
    "manual_clusters.drop(['Unnamed: 0'],axis = 1);"
   ]
  },
  {
   "cell_type": "code",
   "execution_count": 257,
   "metadata": {},
   "outputs": [],
   "source": [
    "df.update(manual_clusters)\n",
    "df['Cluster'] = df['Region'].map(lambda x: countrydict.regions_to_cluster[x])"
   ]
  },
  {
   "cell_type": "code",
   "execution_count": 258,
   "metadata": {},
   "outputs": [],
   "source": [
    "#Incorporating GDP data\n",
    "\n",
    "\n",
    "WEO_GDP = pd.read_csv(\"WEO_Data.csv\",encoding='ISO-8859-1',skiprows = [197,198])\n",
    "WB_GDP = pd.read_csv(\"World_Bank_Data.csv\",skiprows = [267,268,269,270,271])\n",
    "\n",
    "WEO_GDP = WEO_GDP.set_index(WEO_GDP['ISO']);\n",
    "WB_GDP = WB_GDP.set_index(WB_GDP['Country Code']);\n",
    "WEO_GDP = WEO_GDP.to_dict('index')\n",
    "WB_GDP = WB_GDP.to_dict('index')"
   ]
  },
  {
   "cell_type": "code",
   "execution_count": 259,
   "metadata": {},
   "outputs": [],
   "source": [
    "for key in WEO_GDP:\n",
    "    WEO_GDP[key] = defaultdict(int,WEO_GDP[key])\n",
    "for key in WB_GDP:\n",
    "    WB_GDP[key] = defaultdict(int,WB_GDP[key])\n",
    "WEO_GDP = defaultdict(lambda: defaultdict(int), WEO_GDP)\n",
    "WB_GDP = defaultdict(lambda: defaultdict(int),WB_GDP)"
   ]
  },
  {
   "cell_type": "code",
   "execution_count": 260,
   "metadata": {},
   "outputs": [],
   "source": [
    "def get_WEO_GDP(ISO,year):\n",
    "    return WEO_GDP[ISO][year]\n",
    "def get_WB_GDP(ISO,year):\n",
    "    y = year + \" [YR\" + year + \"]\"\n",
    "    return WB_GDP[ISO][y]"
   ]
  },
  {
   "cell_type": "code",
   "execution_count": 261,
   "metadata": {},
   "outputs": [],
   "source": [
    "df['Year'] = (df['Year']).astype(int).astype(str)"
   ]
  },
  {
   "cell_type": "code",
   "execution_count": 262,
   "metadata": {},
   "outputs": [],
   "source": [
    "df['WEO GDP'] = df.apply(lambda row: get_WEO_GDP(row.ISO,row.Year),axis = 1)\n",
    "df['WB GDP'] = df.apply(lambda row: get_WB_GDP(row.ISO,row.Year),axis = 1)"
   ]
  },
  {
   "cell_type": "code",
   "execution_count": 263,
   "metadata": {},
   "outputs": [],
   "source": [
    "df['WEO GDP'] = ((df['WEO GDP'].str.replace(',','')).astype(float))*1e9\n",
    "df['WEO GDP'].fillna(0,inplace = True)"
   ]
  },
  {
   "cell_type": "code",
   "execution_count": 264,
   "metadata": {},
   "outputs": [],
   "source": [
    "df['WB GDP'] = ((df['WB GDP'].replace('..','0'))).astype(float)\n",
    "df['WB GDP'].fillna(0,inplace = True)"
   ]
  },
  {
   "cell_type": "code",
   "execution_count": 265,
   "metadata": {},
   "outputs": [],
   "source": [
    "def modified_average(x,y):\n",
    "    return ((x > 0) and (y > 0))*(x + y)/2 + ((x == 0) and (y > 0))*(y) + ((x > 0) and (y == 0))*x"
   ]
  },
  {
   "cell_type": "code",
   "execution_count": 266,
   "metadata": {},
   "outputs": [],
   "source": [
    "df['GDP'] = df.apply(lambda row: modified_average(row['WEO GDP'],row['WB GDP']),axis = 1)"
   ]
  },
  {
   "cell_type": "code",
   "execution_count": 267,
   "metadata": {},
   "outputs": [],
   "source": [
    "#17 GDPs are missing - need to be considered separately. Mostly in caribbean territories or countries that no longer exist.\n",
    "df[df['GDP'] == 0].to_excel(\"manual_GDP_entry.xlsx\")"
   ]
  }
 ],
 "metadata": {
  "kernelspec": {
   "display_name": "Python 3",
   "language": "python",
   "name": "python3"
  },
  "language_info": {
   "codemirror_mode": {
    "name": "ipython",
    "version": 3
   },
   "file_extension": ".py",
   "mimetype": "text/x-python",
   "name": "python",
   "nbconvert_exporter": "python",
   "pygments_lexer": "ipython3",
   "version": "3.10.7"
  },
  "orig_nbformat": 4,
  "vscode": {
   "interpreter": {
    "hash": "2efb4d4b7120e2985f960e59988f20bd9c8de9b4bd6d032488b38d1e98547ddb"
   }
  }
 },
 "nbformat": 4,
 "nbformat_minor": 2
}
